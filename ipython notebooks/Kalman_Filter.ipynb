{
 "metadata": {
  "kernelspec": {
   "display_name": "Python 3",
   "language": "python",
   "name": "python3"
  },
  "language_info": {
   "codemirror_mode": {
    "name": "ipython",
    "version": 3
   },
   "file_extension": ".py",
   "mimetype": "text/x-python",
   "name": "python",
   "nbconvert_exporter": "python",
   "pygments_lexer": "ipython3",
   "version": "3.5.1"
  },
  "name": "",
  "signature": "sha256:0ee6187a2c504f5e232b05dfc6da1c6a7f60ff1cd46a70d15e2daaa0617575f6"
 },
 "nbformat": 3,
 "nbformat_minor": 0,
 "worksheets": [
  {
   "cells": [
    {
     "cell_type": "heading",
     "level": 1,
     "metadata": {},
     "source": [
      "Kalman Filter"
     ]
    },
    {
     "cell_type": "markdown",
     "metadata": {
      "collapsed": true
     },
     "source": [
      "### Content:\n",
      "        -1D Kalman Filter (Input: motion, measurement and their variance)\n",
      "        -2D Kalman Filter (Input: motion, measurement and their variance in two dimension)"
     ]
    },
    {
     "cell_type": "heading",
     "level": 3,
     "metadata": {},
     "source": [
      "Import Inbuilt Function"
     ]
    },
    {
     "cell_type": "code",
     "collapsed": true,
     "input": [
      "import numpy as np\n",
      "import math\n",
      "from matplotlib import pyplot as plt\n",
      "from matplotlib import animation\n",
      "from KF_1D import Gaussian\n",
      "from matplotlib.patches import Ellipse"
     ],
     "language": "python",
     "metadata": {},
     "outputs": [],
     "prompt_number": 1
    },
    {
     "cell_type": "markdown",
     "metadata": {},
     "source": [
      "### 1D Kalman Filter Function\n",
      "    -Divided into two step, upgrade of the previous position and predict of next position\n",
      "    -Output is mean of positions and their variance"
     ]
    },
    {
     "cell_type": "code",
     "collapsed": true,
     "input": [
      "def KF_1D (mu, sig, measurement, measurement_sig, motion, motion_sig):\n",
      "        \n",
      "    #update\n",
      "    Kalman_Gain = sig/(sig+measurement_sig)\n",
      "    posterior_mean = mu + Kalman_Gain*(measurement-mu)\n",
      "    posterior_var = (1-Kalman_Gain)*sig\n",
      "    \n",
      "    mu = posterior_mean\n",
      "    sig = posterior_var\n",
      "    \n",
      "    #predict\n",
      "    prior_mean = mu + motion\n",
      "    prior_var = sig + motion_sig\n",
      "    \n",
      "    return posterior_mean, posterior_var, prior_mean, prior_var"
     ],
     "language": "python",
     "metadata": {},
     "outputs": [],
     "prompt_number": 2
    },
    {
     "cell_type": "markdown",
     "metadata": {},
     "source": [
      "### 1D Kalman Filter Displacement\n",
      "\n",
      "### Input:\n",
      "     -measurement and its variance\n",
      "     -motion and its variance\n",
      "     -inital position and uncertainty\n",
      "### Output:\n",
      "     -belief position and variance after each measurement and motion"
     ]
    },
    {
     "cell_type": "code",
     "collapsed": false,
     "input": [
      "measurement = [5., 6., 7., 9., 10.,12] #Measurement list\n",
      "motion = [1., 1., 2., 1., 1.,2] #Motion list \n",
      "measurement_sig = 4. #Measurement error\n",
      "motion_sig = 2. #Motion error\n",
      "mu = 0. #Initial poisition\n",
      "sig = 10000. #Initial uncertainty\n",
      "posterior_mean = []\n",
      "posterior_var = []\n",
      "prior_mean = []\n",
      "prior_var = []\n",
      "\n",
      "for i in range(len(measurement)):\n",
      "    a = KF_1D (mu, sig, measurement[i], measurement_sig, motion[i], motion_sig)\n",
      "    [mu,sig] = [a[2],a[3]] #Update the position\n",
      "    prior_mean.append(mu)\n",
      "    prior_var.append(sig)\n",
      "    posterior_mean.append(a[0])\n",
      "    posterior_var.append(a[1])\n",
      "    \n",
      "x_position = []\n",
      "y_position = []\n",
      "robot_pos = [] #Store the position after each step\n",
      "\n",
      "#Calculate Gaussian Distribution\n",
      "for i in range (len(prior_mean)):\n",
      "    c = []\n",
      "    d = []\n",
      "    a = np.linspace(posterior_mean[i]-2*posterior_var[i],posterior_mean[i]+2*posterior_var[i],100)\n",
      "    b = np.linspace(prior_mean[i]-2*prior_var[i],prior_mean[i]+2*prior_var[i],100)\n",
      "    a.tolist()\n",
      "    b.tolist()\n",
      "    for j in range(len(a)):\n",
      "        c.append(Gaussian (posterior_mean[i], posterior_var[i], a[j])) #Belief after measurement: Guassian Distribution\n",
      "        d.append(Gaussian (prior_mean[i], prior_var[i], b[j])) #Belief after motion: Gaussian Distribution\n",
      "    \n",
      "    x_position.append(a)\n",
      "    x_position.append(b)\n",
      "    y_position.append(c)\n",
      "    y_position.append(d)\n",
      "    robot_pos.append(posterior_mean[i])\n",
      "    robot_pos.append(prior_mean[i])\n",
      "\n",
      "#Plot Displacement\n",
      "\n",
      "fig = plt.figure()\n",
      "ax = plt.axes(xlim=(0, 15), ylim=(0,1))\n",
      "robot, = ax.plot([],[],'ro',ms = 8)\n",
      "line, = ax.plot([],[],'r-',ms = 8)\n",
      "\n",
      "def init():\n",
      "    line.set_data([],[])\n",
      "    robot.set_data([],[])\n",
      "    return robot, line\n",
      "\n",
      "def animate(i):\n",
      "    \n",
      "    if i >= len(robot_pos):\n",
      "        i = 0\n",
      "    \n",
      "    robot.set_data(robot_pos[i],0)    \n",
      "    line.set_data(x_position[i],y_position[i])\n",
      "    \n",
      "    return robot, line\n",
      "\n",
      "anim = animation.FuncAnimation(fig, animate, init_func=init,   \n",
      "                                frames=6000, interval=600, blit=True)    \n",
      "plt.show()   "
     ],
     "language": "python",
     "metadata": {},
     "outputs": [],
     "prompt_number": 3
    },
    {
     "cell_type": "markdown",
     "metadata": {},
     "source": [
      "### 2D Kalman Filter Function\n",
      "    Input:\n",
      "        -Measurement and error\n",
      "        -Motion and error"
     ]
    },
    {
     "cell_type": "code",
     "collapsed": false,
     "input": [
      "def KF_2D (mu, sig, measurement, measurement_sig, motion, motion_sig):\n",
      "    \n",
      "    #Next state Function\n",
      "    F = ([[1., 0.], [0., 1.]])\n",
      "    #Measurement Function\n",
      "    H = ([[1., 0.], [0., 1.]])\n",
      "    \n",
      "    #Upgrade\n",
      "    Z = ([[measurement[0], 0.],[0., measurement[1]]])\n",
      "    x = mu\n",
      "    P = sig\n",
      "    y = Z - np.dot(H,x)\n",
      "    S = np.dot(np.dot(H, P), np.transpose(H)) + measurement_sig\n",
      "    K = np.dot(np.dot(P, np.transpose(H)), np.linalg.inv(S))\n",
      "    ug_pos = x + np.dot(K, y)\n",
      "    I = np.identity(len(np.dot(K, H)))\n",
      "    ug_sig = np.dot(I-np.dot(K,H),P)\n",
      "    \n",
      "    #Prediction\n",
      "    u = ([[motion[0], 0.],[0., motion[1]]])\n",
      "    pr_pos = np.dot(F,ug_pos) + u\n",
      "    pr_sig = np.dot(np.dot(F, ug_sig), np.transpose(F)) + motion_sig\n",
      "    \n",
      "    return ug_pos, ug_sig, pr_pos, pr_sig"
     ],
     "language": "python",
     "metadata": {
      "scrolled": true
     },
     "outputs": [],
     "prompt_number": 4
    },
    {
     "cell_type": "markdown",
     "metadata": {},
     "source": [
      "### 2D Kalman Filter Displacement\n",
      "\n",
      "### Input:\n",
      "     -measurement and its variance\n",
      "     -motion and its variance\n",
      "     -inital position and uncertainty\n",
      "### Output:\n",
      "     -belief position and variance at 2D after each measurement and motion"
     ]
    },
    {
     "cell_type": "code",
     "collapsed": false,
     "input": [
      "#Calculate the position of the robot and the variance\n",
      "mu = ([[0., 0.],[0., 0.]])\n",
      "sig = ([[1000., 0.],[0., 1000.]])\n",
      "measurement = ([[1., 2.],[3., 4.],[5., 6.], [7,8]])\n",
      "measurement_sig = ([[0.78, 0.],[0., 1.22]])\n",
      "motion = ([[1., 2.],[2., 2.],[2., 2.],[2, 2]])\n",
      "motion_sig = ([[2.1, 0.],[0., 1.5]])\n",
      "robot_pos = []\n",
      "x_sig = []\n",
      "y_sig = []\n",
      "\n",
      "for i in range(len(measurement)):\n",
      "    a = KF_2D (mu, sig, measurement[i], measurement_sig, motion[i], motion_sig)\n",
      "    [mu,sig] = [a[2],a[3]]\n",
      "    robot_pos.append([a[0][0][0],a[0][1][1]])\n",
      "    robot_pos.append([a[2][0][0],a[2][1][1]])\n",
      "    x_sig.append(a[1][0][0])\n",
      "    x_sig.append(a[3][0][0])\n",
      "    y_sig.append(a[1][1][1])\n",
      "    y_sig.append(a[3][1][1])\n",
      "\n",
      "#Draw the ellipse\n",
      "fig = plt.figure()\n",
      "ax = plt.axes(xlim=(0, 15), ylim=(0,15))\n",
      "robot, = ax.plot([],[],'ro',ms = 10)\n",
      "e1 = Ellipse(xy=(robot_pos[0][0], robot_pos[0][1]), width=x_sig[0], height=y_sig[0], angle=0)\n",
      "ax.add_patch(e1)\n",
      "\n",
      "#Displacement of the plot\n",
      "def init():\n",
      "    e1.set_visible(False)\n",
      "    robot.set_data([],[])\n",
      "    return [e1,robot]\n",
      "\n",
      "def animate(i):\n",
      "    if i == 1:\n",
      "        e1.set_visible(True)\n",
      "    if i >= len(robot_pos):\n",
      "        i = 0\n",
      "    e1.center = (robot_pos[i][0], robot_pos[i][1])\n",
      "    e1.width = x_sig[i]\n",
      "    e1.height = y_sig[i]\n",
      "    \n",
      "    robot.set_data(robot_pos[i][0], robot_pos[i][1])\n",
      "    return [e1,robot]\n",
      "\n",
      "anim = animation.FuncAnimation(fig, animate, init_func=init,   \n",
      "                                frames=6000, interval=600, blit=True)    \n",
      "plt.show()\n"
     ],
     "language": "python",
     "metadata": {},
     "outputs": [],
     "prompt_number": 5
    },
    {
     "cell_type": "code",
     "collapsed": true,
     "input": [],
     "language": "python",
     "metadata": {},
     "outputs": [],
     "prompt_number": null
    }
   ],
   "metadata": {}
  }
 ]
}